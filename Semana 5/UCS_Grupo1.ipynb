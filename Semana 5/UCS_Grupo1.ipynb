{
  "nbformat": 4,
  "nbformat_minor": 0,
  "metadata": {
    "colab": {
      "provenance": [],
      "collapsed_sections": []
    },
    "kernelspec": {
      "name": "python3",
      "display_name": "Python 3"
    },
    "language_info": {
      "name": "python"
    }
  },
  "cells": [
    {
      "cell_type": "markdown",
      "source": [
        "## Integrantes\n",
        "- Aquino Cruz, Leonardo José\n",
        "- Carrasco Hernández, Florentino Josue\n",
        "- Gamarra Vega, Anderson Jose"
      ],
      "metadata": {
        "id": "UCOJrGYIYscV"
      }
    },
    {
      "cell_type": "code",
      "execution_count": 44,
      "metadata": {
        "id": "tYwB9ayt0JMa"
      },
      "outputs": [],
      "source": [
        "import heapq as hq\n",
        "import numpy as np\n",
        "import graphviz as gv\n",
        "import math"
      ]
    },
    {
      "cell_type": "code",
      "source": [
        "def BusquedaXCostoUniforme(G, s, t): \n",
        "    n = len(G)\n",
        "    visitados = [False]*n\n",
        "    pesos  = [math.inf]*n\n",
        "    ruta    = [None]*n\n",
        "    cola   = [] \n",
        "    hq.heappush(cola, (0, s)) \n",
        "    pesos[s] = 0 \n",
        "    \n",
        "    while len(cola) > 0:\n",
        "        g, u = hq.heappop(cola) \n",
        "        if visitados[u]: \n",
        "            continue\n",
        "        if u == t: \n",
        "            break\n",
        "        visitados[u] = True \n",
        "        for v, w in G[u]: \n",
        "             if not visitados[v]: \n",
        "                f = g + w \n",
        "                if f < pesos[v]: \n",
        "                    pesos[v] = f\n",
        "                    ruta[v]   = u\n",
        "                    hq.heappush(cola, (f, v))  \n",
        "    return ruta, pesos"
      ],
      "metadata": {
        "id": "3zVgk2pyPRCX"
      },
      "execution_count": 45,
      "outputs": []
    },
    {
      "cell_type": "code",
      "source": [
        "T = [[(1, 1), (2, 2),(3, 1),(5,5)],\n",
        "     [(0, 1), (2, 1)],\n",
        "     [(1, 1), (0, 2), (3, 2),(4, 3)],\n",
        "     [(0, 1), (2, 2), (4, 2),(5, 3),(6, 4)],\n",
        "     [(2, 3), (3, 2), (6, 1)],\n",
        "     [(1, 7), (3, 1), (4, 3)],\n",
        "     [(4, 1), (3, 4), (5, 3)]\n",
        "     ]"
      ],
      "metadata": {
        "id": "G-gGrwyvQM33"
      },
      "execution_count": 46,
      "outputs": []
    },
    {
      "cell_type": "code",
      "source": [
        "def drawG_al(G, directed=False, weighted=False, path=[], layout=\"sfdp\"):\n",
        "  graph = gv.Digraph(\"digrafo\") if directed else gv.Graph(\"grafo\")\n",
        "  graph.graph_attr[\"layout\"] = layout\n",
        "  graph.edge_attr[\"color\"] = \"gray\"\n",
        "  graph.node_attr[\"color\"] = \"orangered\"\n",
        "  graph.node_attr[\"width\"] = \"0.1\"\n",
        "  graph.node_attr[\"height\"] = \"0.1\"\n",
        "  graph.node_attr[\"fontsize\"] = \"8\"\n",
        "  graph.node_attr[\"fontcolor\"] = \"mediumslateblue\"\n",
        "  graph.node_attr[\"fontname\"] = \"monospace\"\n",
        "  graph.edge_attr[\"fontsize\"] = \"8\"\n",
        "  graph.edge_attr[\"fontname\"] = \"monospace\"\n",
        "  n = len(G)\n",
        "  added = set()\n",
        "  for v, u in enumerate(path):\n",
        "    if u != -1:\n",
        "      if weighted:\n",
        "        for vi, w in G[u]:\n",
        "          if vi == v:\n",
        "            break\n",
        "        graph.edge(str(u), str(v), str(w), dir=\"forward\", penwidth=\"2\", color=\"orange\")\n",
        "      else:\n",
        "        graph.edge(str(u), str(v), dir=\"forward\", penwidth=\"2\", color=\"orange\")\n",
        "      added.add(f\"{u},{v}\")\n",
        "      added.add(f\"{v},{u}\")\n",
        "  for u in range(n):\n",
        "    for v, w in G[u]:\n",
        "      draw = False\n",
        "      if not directed and not f\"{u},{v}\" in added:  \n",
        "        added.add(f\"{u},{v}\")\n",
        "        added.add(f\"{v},{u}\")\n",
        "        draw = True\n",
        "      elif directed:\n",
        "        draw = True\n",
        "      if draw:\n",
        "        if weighted:\n",
        "          graph.edge(str(u), str(v), str(w))\n",
        "        else:\n",
        "          graph.edge(str(u), str(v))\n",
        "  return graph"
      ],
      "metadata": {
        "id": "4j9Eumwq0avn"
      },
      "execution_count": 47,
      "outputs": []
    },
    {
      "cell_type": "code",
      "source": [
        "drawG_al(T, weighted=True)"
      ],
      "metadata": {
        "colab": {
          "base_uri": "https://localhost:8080/",
          "height": 278
        },
        "id": "rRK5SWWz0eon",
        "outputId": "c1999607-164e-4898-a995-8295e98055e8"
      },
      "execution_count": 33,
      "outputs": [
        {
          "output_type": "execute_result",
          "data": {
            "text/plain": [
              "<graphviz.dot.Graph at 0x7fccbd2e5090>"
            ],
            "image/svg+xml": "<?xml version=\"1.0\" encoding=\"UTF-8\" standalone=\"no\"?>\n<!DOCTYPE svg PUBLIC \"-//W3C//DTD SVG 1.1//EN\"\n \"http://www.w3.org/Graphics/SVG/1.1/DTD/svg11.dtd\">\n<!-- Generated by graphviz version 2.40.1 (20161225.0304)\n -->\n<!-- Title: grafo Pages: 1 -->\n<svg width=\"359pt\" height=\"192pt\"\n viewBox=\"0.00 0.00 358.57 192.04\" xmlns=\"http://www.w3.org/2000/svg\" xmlns:xlink=\"http://www.w3.org/1999/xlink\">\n<g id=\"graph0\" class=\"graph\" transform=\"scale(1 1) rotate(0) translate(4 188.0386)\">\n<title>grafo</title>\n<polygon fill=\"#ffffff\" stroke=\"transparent\" points=\"-4,4 -4,-188.0386 354.5703,-188.0386 354.5703,4 -4,4\"/>\n<!-- 0 -->\n<g id=\"node1\" class=\"node\">\n<title>0</title>\n<ellipse fill=\"none\" stroke=\"#ff4500\" cx=\"258.0676\" cy=\"-115.3845\" rx=\"15.6129\" ry=\"12.0417\"/>\n<text text-anchor=\"middle\" x=\"258.0676\" y=\"-113.4845\" font-family=\"monospace\" font-size=\"8.00\" fill=\"#7b68ee\">0</text>\n</g>\n<!-- 1 -->\n<g id=\"node2\" class=\"node\">\n<title>1</title>\n<ellipse fill=\"none\" stroke=\"#ff4500\" cx=\"335.014\" cy=\"-137.3253\" rx=\"15.6129\" ry=\"12.0417\"/>\n<text text-anchor=\"middle\" x=\"335.014\" y=\"-135.4253\" font-family=\"monospace\" font-size=\"8.00\" fill=\"#7b68ee\">1</text>\n</g>\n<!-- 0&#45;&#45;1 -->\n<g id=\"edge1\" class=\"edge\">\n<title>0&#45;&#45;1</title>\n<path fill=\"none\" stroke=\"#c0c0c0\" d=\"M272.9036,-119.6149C286.5291,-123.5001 306.6125,-129.2268 320.2235,-133.1079\"/>\n<text text-anchor=\"middle\" x=\"293.5636\" y=\"-128.9614\" font-family=\"monospace\" font-size=\"8.00\" fill=\"#000000\">1</text>\n</g>\n<!-- 2 -->\n<g id=\"node3\" class=\"node\">\n<title>2</title>\n<ellipse fill=\"none\" stroke=\"#ff4500\" cx=\"232.848\" cy=\"-12.0208\" rx=\"15.6129\" ry=\"12.0417\"/>\n<text text-anchor=\"middle\" x=\"232.848\" y=\"-10.1208\" font-family=\"monospace\" font-size=\"8.00\" fill=\"#7b68ee\">2</text>\n</g>\n<!-- 0&#45;&#45;2 -->\n<g id=\"edge2\" class=\"edge\">\n<title>0&#45;&#45;2</title>\n<path fill=\"none\" stroke=\"#c0c0c0\" d=\"M255.1746,-103.5274C250.3357,-83.6949 240.653,-44.01 235.785,-24.058\"/>\n<text text-anchor=\"middle\" x=\"242.4798\" y=\"-66.3927\" font-family=\"monospace\" font-size=\"8.00\" fill=\"#000000\">2</text>\n</g>\n<!-- 3 -->\n<g id=\"node4\" class=\"node\">\n<title>3</title>\n<ellipse fill=\"none\" stroke=\"#ff4500\" cx=\"134.0464\" cy=\"-85.4964\" rx=\"15.6129\" ry=\"12.0417\"/>\n<text text-anchor=\"middle\" x=\"134.0464\" y=\"-83.5964\" font-family=\"monospace\" font-size=\"8.00\" fill=\"#7b68ee\">3</text>\n</g>\n<!-- 0&#45;&#45;3 -->\n<g id=\"edge3\" class=\"edge\">\n<title>0&#45;&#45;3</title>\n<path fill=\"none\" stroke=\"#c0c0c0\" d=\"M242.8602,-111.7196C218.9278,-105.9521 172.7591,-94.8258 148.9908,-89.0978\"/>\n<text text-anchor=\"middle\" x=\"192.9255\" y=\"-103.0087\" font-family=\"monospace\" font-size=\"8.00\" fill=\"#000000\">1</text>\n</g>\n<!-- 5 -->\n<g id=\"node5\" class=\"node\">\n<title>5</title>\n<ellipse fill=\"none\" stroke=\"#ff4500\" cx=\"160.9364\" cy=\"-172.0177\" rx=\"15.6129\" ry=\"12.0417\"/>\n<text text-anchor=\"middle\" x=\"160.9364\" y=\"-170.1177\" font-family=\"monospace\" font-size=\"8.00\" fill=\"#7b68ee\">5</text>\n</g>\n<!-- 0&#45;&#45;5 -->\n<g id=\"edge4\" class=\"edge\">\n<title>0&#45;&#45;5</title>\n<path fill=\"none\" stroke=\"#c0c0c0\" d=\"M245.3694,-122.7883C226.7543,-133.642 192.2546,-153.7574 173.6377,-164.6121\"/>\n<text text-anchor=\"middle\" x=\"206.5036\" y=\"-146.3002\" font-family=\"monospace\" font-size=\"8.00\" fill=\"#000000\">5</text>\n</g>\n<!-- 1&#45;&#45;2 -->\n<g id=\"edge5\" class=\"edge\">\n<title>1&#45;&#45;2</title>\n<path fill=\"none\" stroke=\"#c0c0c0\" d=\"M326.6533,-127.0711C307.4953,-103.5742 260.5932,-46.0497 241.3242,-22.4167\"/>\n<text text-anchor=\"middle\" x=\"280.9888\" y=\"-77.3439\" font-family=\"monospace\" font-size=\"8.00\" fill=\"#000000\">1</text>\n</g>\n<!-- 2&#45;&#45;3 -->\n<g id=\"edge6\" class=\"edge\">\n<title>2&#45;&#45;3</title>\n<path fill=\"none\" stroke=\"#c0c0c0\" d=\"M221.5142,-20.4494C202.5571,-34.5472 164.6236,-62.757 145.5523,-76.9397\"/>\n<text text-anchor=\"middle\" x=\"180.5333\" y=\"-51.2946\" font-family=\"monospace\" font-size=\"8.00\" fill=\"#000000\">2</text>\n</g>\n<!-- 4 -->\n<g id=\"node6\" class=\"node\">\n<title>4</title>\n<ellipse fill=\"none\" stroke=\"#ff4500\" cx=\"70.633\" cy=\"-37.1097\" rx=\"15.6129\" ry=\"12.0417\"/>\n<text text-anchor=\"middle\" x=\"70.633\" y=\"-35.2097\" font-family=\"monospace\" font-size=\"8.00\" fill=\"#7b68ee\">4</text>\n</g>\n<!-- 2&#45;&#45;4 -->\n<g id=\"edge7\" class=\"edge\">\n<title>2&#45;&#45;4</title>\n<path fill=\"none\" stroke=\"#c0c0c0\" d=\"M217.5872,-14.3811C186.6704,-19.1628 116.9531,-29.9456 85.9714,-34.7374\"/>\n<text text-anchor=\"middle\" x=\"148.7793\" y=\"-27.1592\" font-family=\"monospace\" font-size=\"8.00\" fill=\"#000000\">3</text>\n</g>\n<!-- 3&#45;&#45;5 -->\n<g id=\"edge9\" class=\"edge\">\n<title>3&#45;&#45;5</title>\n<path fill=\"none\" stroke=\"#c0c0c0\" d=\"M137.7853,-97.5268C142.9227,-114.0569 152.1085,-143.6132 157.2292,-160.0895\"/>\n<text text-anchor=\"middle\" x=\"144.5073\" y=\"-131.4081\" font-family=\"monospace\" font-size=\"8.00\" fill=\"#000000\">3</text>\n</g>\n<!-- 3&#45;&#45;4 -->\n<g id=\"edge8\" class=\"edge\">\n<title>3&#45;&#45;4</title>\n<path fill=\"none\" stroke=\"#c0c0c0\" d=\"M122.7093,-76.8458C111.1669,-68.0385 93.3788,-54.4655 81.8719,-45.6853\"/>\n<text text-anchor=\"middle\" x=\"99.2906\" y=\"-63.8656\" font-family=\"monospace\" font-size=\"8.00\" fill=\"#000000\">2</text>\n</g>\n<!-- 6 -->\n<g id=\"node7\" class=\"node\">\n<title>6</title>\n<ellipse fill=\"none\" stroke=\"#ff4500\" cx=\"15.5563\" cy=\"-152.2797\" rx=\"15.6129\" ry=\"12.0417\"/>\n<text text-anchor=\"middle\" x=\"15.5563\" y=\"-150.3797\" font-family=\"monospace\" font-size=\"8.00\" fill=\"#7b68ee\">6</text>\n</g>\n<!-- 3&#45;&#45;6 -->\n<g id=\"edge10\" class=\"edge\">\n<title>3&#45;&#45;6</title>\n<path fill=\"none\" stroke=\"#c0c0c0\" d=\"M121.3658,-92.6433C98.5599,-105.4973 50.8852,-132.3677 28.1457,-145.1841\"/>\n<text text-anchor=\"middle\" x=\"71.7558\" y=\"-121.5137\" font-family=\"monospace\" font-size=\"8.00\" fill=\"#000000\">4</text>\n</g>\n<!-- 5&#45;&#45;1 -->\n<g id=\"edge12\" class=\"edge\">\n<title>5&#45;&#45;1</title>\n<path fill=\"none\" stroke=\"#c0c0c0\" d=\"M176.0801,-168.9997C209.0022,-162.4386 286.7786,-146.9383 319.7813,-140.3611\"/>\n<text text-anchor=\"middle\" x=\"244.9307\" y=\"-157.2804\" font-family=\"monospace\" font-size=\"8.00\" fill=\"#000000\">7</text>\n</g>\n<!-- 5&#45;&#45;4 -->\n<g id=\"edge13\" class=\"edge\">\n<title>5&#45;&#45;4</title>\n<path fill=\"none\" stroke=\"#c0c0c0\" d=\"M153.5465,-160.9776C136.5287,-135.5541 94.7436,-73.1294 77.8727,-47.9253\"/>\n<text text-anchor=\"middle\" x=\"112.7096\" y=\"-107.0515\" font-family=\"monospace\" font-size=\"8.00\" fill=\"#000000\">3</text>\n</g>\n<!-- 4&#45;&#45;6 -->\n<g id=\"edge11\" class=\"edge\">\n<title>4&#45;&#45;6</title>\n<path fill=\"none\" stroke=\"#c0c0c0\" d=\"M65.1507,-48.5737C54.5936,-70.6494 31.5561,-118.8229 21.0165,-140.8621\"/>\n<text text-anchor=\"middle\" x=\"40.0836\" y=\"-97.3179\" font-family=\"monospace\" font-size=\"8.00\" fill=\"#000000\">1</text>\n</g>\n<!-- 6&#45;&#45;5 -->\n<g id=\"edge14\" class=\"edge\">\n<title>6&#45;&#45;5</title>\n<path fill=\"none\" stroke=\"#c0c0c0\" d=\"M31.1146,-154.3921C59.0961,-158.1911 117.59,-166.1327 145.4901,-169.9206\"/>\n<text text-anchor=\"middle\" x=\"85.3023\" y=\"-164.7563\" font-family=\"monospace\" font-size=\"8.00\" fill=\"#000000\">3</text>\n</g>\n</g>\n</svg>\n"
          },
          "metadata": {},
          "execution_count": 33
        }
      ]
    },
    {
      "cell_type": "code",
      "source": [
        "vertices=['A', 'B','C','D','E','F','G']\n",
        "#vertices=[0,   1,  2,  3,  4,  5,  6]\n",
        "inicial=1\n",
        "final=6\n",
        "ruta, pesos = BusquedaXCostoUniforme(T, inicial, final) # ruta de B --->G\n",
        "\n",
        "\n",
        "print('\\nVector de pesos: ', pesos)\n",
        "print('De',vertices[inicial], ' a ', vertices[final],' se llega con peso ',pesos[final])\n",
        "print('\\nRUTA:')\n",
        "\n",
        "#imprimiendo la ruta\n",
        "while final != None:\n",
        "    print(vertices[final], final)\n",
        "    final = ruta[final]"
      ],
      "metadata": {
        "colab": {
          "base_uri": "https://localhost:8080/"
        },
        "id": "8NAVKfq90lMP",
        "outputId": "9549728a-5e71-4594-df92-bfaeb2156244"
      },
      "execution_count": 51,
      "outputs": [
        {
          "output_type": "stream",
          "name": "stdout",
          "text": [
            "\n",
            "Vector de pesos:  [1, 0, 1, 2, 4, 5, 5]\n",
            "De B  a  G  se llega con peso  5\n",
            "\n",
            "RUTA:\n",
            "G 6\n",
            "E 4\n",
            "C 2\n",
            "B 1\n"
          ]
        }
      ]
    }
  ]
}